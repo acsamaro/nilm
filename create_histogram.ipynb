{
 "cells": [
  {
   "cell_type": "code",
   "execution_count": 27,
   "metadata": {},
   "outputs": [],
   "source": [
    "# appliance = 'kettle'\n",
    "# power = 2000\n",
    "\n",
    "appliance = 'toaster'\n",
    "power = 1200\n",
    "\n",
    "#appliance = 'audio amplifier'\n",
    "#power = 20\n",
    "\n",
    "# appliance = 'dish washer'\n",
    "# power = 2000\n",
    "\n",
    "#appliance = 'hair dryer'\n",
    "#power = 1000\n",
    "\n",
    "#appliance = 'mmicrowave'\n",
    "#power = 1500"
   ]
  },
  {
   "cell_type": "markdown",
   "metadata": {},
   "source": [
    "Escolha na próxima célula se deseja escolher uma janela de tempo e o período de inicio e fim:"
   ]
  },
  {
   "cell_type": "code",
   "execution_count": 28,
   "metadata": {},
   "outputs": [],
   "source": [
    "set_timewindow = False\n",
    "startDate = '2013-03-01'\n",
    "endDate = '2013-06-01'"
   ]
  },
  {
   "cell_type": "code",
   "execution_count": 29,
   "metadata": {},
   "outputs": [],
   "source": [
    "import matplotlib\n",
    "from matplotlib import rcParams\n",
    "import matplotlib.pyplot as plt\n",
    "import pandas as pd\n",
    "import numpy as np\n",
    "import datetime\n",
    "import nilmtk\n",
    "from nilmtk import DataSet, MeterGroup\n",
    "from sklearn.ensemble import RandomForestClassifier\n",
    "from sklearn import preprocessing\n",
    "import seaborn as sns\n",
    "import torch\n",
    "from torch.utils.data import Dataset\n",
    "import torch.nn as nn\n",
    "import torch.nn.functional as F\n",
    "import torch.optim as optim\n",
    "\n",
    "sns.set()\n",
    "plt.style.use('ggplot')\n",
    "rcParams['figure.figsize'] = (20, 8)\n",
    "caminho_ukdale = 'ukdale.h5'\n",
    "\n",
    "# Lendo Dataset do Ukdale\n",
    "ukdale = DataSet(caminho_ukdale)"
   ]
  },
  {
   "cell_type": "code",
   "execution_count": 30,
   "metadata": {},
   "outputs": [
    {
     "data": {
      "text/html": [
       "<div>\n",
       "<style scoped>\n",
       "    .dataframe tbody tr th:only-of-type {\n",
       "        vertical-align: middle;\n",
       "    }\n",
       "\n",
       "    .dataframe tbody tr th {\n",
       "        vertical-align: top;\n",
       "    }\n",
       "\n",
       "    .dataframe thead th {\n",
       "        text-align: right;\n",
       "    }\n",
       "</style>\n",
       "<table border=\"1\" class=\"dataframe\">\n",
       "  <thead>\n",
       "    <tr style=\"text-align: right;\">\n",
       "      <th></th>\n",
       "      <th>voltage_mains</th>\n",
       "      <th>pwr_app_mains</th>\n",
       "      <th>pwr_act_mains</th>\n",
       "    </tr>\n",
       "  </thead>\n",
       "  <tbody>\n",
       "    <tr>\n",
       "      <th>2013-03-17 19:12:43.100000+00:00</th>\n",
       "      <td>240.149994</td>\n",
       "      <td>431.040009</td>\n",
       "      <td>337.880005</td>\n",
       "    </tr>\n",
       "    <tr>\n",
       "      <th>2013-03-17 19:12:44.100000+00:00</th>\n",
       "      <td>240.559998</td>\n",
       "      <td>427.940002</td>\n",
       "      <td>339.429993</td>\n",
       "    </tr>\n",
       "    <tr>\n",
       "      <th>2013-03-17 19:12:45.100000+00:00</th>\n",
       "      <td>241.070007</td>\n",
       "      <td>429.660004</td>\n",
       "      <td>340.630005</td>\n",
       "    </tr>\n",
       "    <tr>\n",
       "      <th>2013-03-17 19:12:46.100000+00:00</th>\n",
       "      <td>240.440002</td>\n",
       "      <td>426.989990</td>\n",
       "      <td>338.799988</td>\n",
       "    </tr>\n",
       "    <tr>\n",
       "      <th>2013-03-17 19:12:47.100000+00:00</th>\n",
       "      <td>241.009995</td>\n",
       "      <td>429.130005</td>\n",
       "      <td>340.880005</td>\n",
       "    </tr>\n",
       "  </tbody>\n",
       "</table>\n",
       "</div>"
      ],
      "text/plain": [
       "                                  voltage_mains  pwr_app_mains  pwr_act_mains\n",
       "2013-03-17 19:12:43.100000+00:00     240.149994     431.040009     337.880005\n",
       "2013-03-17 19:12:44.100000+00:00     240.559998     427.940002     339.429993\n",
       "2013-03-17 19:12:45.100000+00:00     241.070007     429.660004     340.630005\n",
       "2013-03-17 19:12:46.100000+00:00     240.440002     426.989990     338.799988\n",
       "2013-03-17 19:12:47.100000+00:00     241.009995     429.130005     340.880005"
      ]
     },
     "execution_count": 30,
     "metadata": {},
     "output_type": "execute_result"
    }
   ],
   "source": [
    "if set_timewindow:\n",
    "    ukdale.set_window(start=startDate, end=endDate)\n",
    "\n",
    "# Lendo eletrodomesticos da Casa \n",
    "elec = ukdale.buildings[1].elec\n",
    "\n",
    "#Criando dataset do mains\n",
    "main_df = next(elec.mains().load())\n",
    "main_df.columns = [' '.join(col).strip() for col in main_df.columns.values]\n",
    "main_df = main_df.rename(columns={'power apparent': 'pwr_app_mains', 'power active': 'pwr_act_mains', 'voltage': 'voltage_mains'})\n",
    "main_df = main_df.sort_index()\n",
    "main_df.head()"
   ]
  },
  {
   "cell_type": "code",
   "execution_count": 31,
   "metadata": {},
   "outputs": [
    {
     "data": {
      "text/html": [
       "<div>\n",
       "<style scoped>\n",
       "    .dataframe tbody tr th:only-of-type {\n",
       "        vertical-align: middle;\n",
       "    }\n",
       "\n",
       "    .dataframe tbody tr th {\n",
       "        vertical-align: top;\n",
       "    }\n",
       "\n",
       "    .dataframe thead th {\n",
       "        text-align: right;\n",
       "    }\n",
       "</style>\n",
       "<table border=\"1\" class=\"dataframe\">\n",
       "  <thead>\n",
       "    <tr style=\"text-align: right;\">\n",
       "      <th></th>\n",
       "      <th>pwr_act_toaster</th>\n",
       "    </tr>\n",
       "  </thead>\n",
       "  <tbody>\n",
       "    <tr>\n",
       "      <th>2012-12-14 22:21:32+00:00</th>\n",
       "      <td>0.0</td>\n",
       "    </tr>\n",
       "    <tr>\n",
       "      <th>2012-12-14 22:21:38+00:00</th>\n",
       "      <td>0.0</td>\n",
       "    </tr>\n",
       "    <tr>\n",
       "      <th>2012-12-14 22:21:44+00:00</th>\n",
       "      <td>0.0</td>\n",
       "    </tr>\n",
       "    <tr>\n",
       "      <th>2012-12-14 22:21:50+00:00</th>\n",
       "      <td>0.0</td>\n",
       "    </tr>\n",
       "    <tr>\n",
       "      <th>2012-12-14 22:21:56+00:00</th>\n",
       "      <td>0.0</td>\n",
       "    </tr>\n",
       "  </tbody>\n",
       "</table>\n",
       "</div>"
      ],
      "text/plain": [
       "                           pwr_act_toaster\n",
       "2012-12-14 22:21:32+00:00              0.0\n",
       "2012-12-14 22:21:38+00:00              0.0\n",
       "2012-12-14 22:21:44+00:00              0.0\n",
       "2012-12-14 22:21:50+00:00              0.0\n",
       "2012-12-14 22:21:56+00:00              0.0"
      ]
     },
     "execution_count": 31,
     "metadata": {},
     "output_type": "execute_result"
    }
   ],
   "source": [
    "appliance_df = next(elec[appliance].load())\n",
    "appliance_df.columns = ['pwr_act_' + appliance]\n",
    "appliance_df = appliance_df.sort_index()\n",
    "appliance_df.head()"
   ]
  },
  {
   "cell_type": "code",
   "execution_count": 32,
   "metadata": {},
   "outputs": [
    {
     "name": "stderr",
     "output_type": "stream",
     "text": [
      "/tmp/ipykernel_5883/1500720318.py:4: FutureWarning: 'base' in .resample() and in Grouper() is deprecated.\n",
      "The new arguments that you should use are 'offset' or 'origin'.\n",
      "\n",
      ">>> df.resample(freq=\"3s\", base=2)\n",
      "\n",
      "becomes:\n",
      "\n",
      ">>> df.resample(freq=\"3s\", offset=\"2s\")\n",
      "\n",
      "  main_df = main_df.resample('6S', base=5).mean().interpolate()\n",
      "/tmp/ipykernel_5883/1500720318.py:9: FutureWarning: 'base' in .resample() and in Grouper() is deprecated.\n",
      "The new arguments that you should use are 'offset' or 'origin'.\n",
      "\n",
      ">>> df.resample(freq=\"3s\", base=2)\n",
      "\n",
      "becomes:\n",
      "\n",
      ">>> df.resample(freq=\"3s\", offset=\"2s\")\n",
      "\n",
      "  appliance_df = appliance_df.resample('6S', base=5).mean().interpolate()\n"
     ]
    }
   ],
   "source": [
    "#-------------------Upsample do main_df--------------------------#\n",
    "appliance_df = appliance_df[appliance_df.index >= main_df.index[0]]\n",
    "\n",
    "main_df = main_df.resample('6S', base=5).mean().interpolate()\n",
    "main_df = main_df[main_df.index >= main_df.index[1]]\n",
    "main_df = main_df[main_df.index <= appliance_df.index[-1]]\n",
    "\n",
    "#------------------Resampling appliance_df-----------------------#\n",
    "appliance_df = appliance_df.resample('6S', base=5).mean().interpolate()\n",
    "\n",
    "#-------------------Merging dataframes---------------------------#\n",
    "merged_df = main_df.merge(appliance_df, left_index=True, right_index=True)\n",
    "merged_df['time'] = merged_df.index\n",
    "merged_df['time'] = merged_df['time'].apply(lambda x: x.tz_localize(None))\n",
    "merged_df.index = merged_df['time']\n",
    "merged_df['dia_semana'] = merged_df.time.dt.dayofweek\n",
    "merged_df['mes'] = merged_df.time.dt.month\n",
    "merged_df['hora'] = merged_df.time.dt.hour\n",
    "merged_df['timestamp'] = merged_df['time'].apply(lambda x: x.timestamp())\n",
    "merged_df = merged_df.drop(columns=['time'])\n",
    "\n",
    "#---------------Criando coluna classificatoria-------------------#\n",
    "merged_df['ligado'] = merged_df['pwr_act_' + appliance] > power"
   ]
  },
  {
   "cell_type": "markdown",
   "metadata": {},
   "source": [
    "Utilize a próxima célula para inspecionar o dataframe final:"
   ]
  },
  {
   "cell_type": "code",
   "execution_count": 25,
   "metadata": {},
   "outputs": [
    {
     "data": {
      "text/html": [
       "<div>\n",
       "<style scoped>\n",
       "    .dataframe tbody tr th:only-of-type {\n",
       "        vertical-align: middle;\n",
       "    }\n",
       "\n",
       "    .dataframe tbody tr th {\n",
       "        vertical-align: top;\n",
       "    }\n",
       "\n",
       "    .dataframe thead th {\n",
       "        text-align: right;\n",
       "    }\n",
       "</style>\n",
       "<table border=\"1\" class=\"dataframe\">\n",
       "  <thead>\n",
       "    <tr style=\"text-align: right;\">\n",
       "      <th></th>\n",
       "      <th>voltage_mains</th>\n",
       "      <th>pwr_app_mains</th>\n",
       "      <th>pwr_act_mains</th>\n",
       "      <th>pwr_act_dish washer</th>\n",
       "      <th>dia_semana</th>\n",
       "      <th>mes</th>\n",
       "      <th>hora</th>\n",
       "      <th>timestamp</th>\n",
       "      <th>ligado</th>\n",
       "    </tr>\n",
       "    <tr>\n",
       "      <th>time</th>\n",
       "      <th></th>\n",
       "      <th></th>\n",
       "      <th></th>\n",
       "      <th></th>\n",
       "      <th></th>\n",
       "      <th></th>\n",
       "      <th></th>\n",
       "      <th></th>\n",
       "      <th></th>\n",
       "    </tr>\n",
       "  </thead>\n",
       "  <tbody>\n",
       "    <tr>\n",
       "      <th>2015-01-05 06:25:11</th>\n",
       "      <td>243.346664</td>\n",
       "      <td>202.818344</td>\n",
       "      <td>173.566666</td>\n",
       "      <td>1.0</td>\n",
       "      <td>0</td>\n",
       "      <td>1</td>\n",
       "      <td>6</td>\n",
       "      <td>1.420439e+09</td>\n",
       "      <td>False</td>\n",
       "    </tr>\n",
       "    <tr>\n",
       "      <th>2015-01-05 06:25:17</th>\n",
       "      <td>243.433334</td>\n",
       "      <td>202.701660</td>\n",
       "      <td>173.366653</td>\n",
       "      <td>1.0</td>\n",
       "      <td>0</td>\n",
       "      <td>1</td>\n",
       "      <td>6</td>\n",
       "      <td>1.420439e+09</td>\n",
       "      <td>False</td>\n",
       "    </tr>\n",
       "    <tr>\n",
       "      <th>2015-01-05 06:25:23</th>\n",
       "      <td>243.541672</td>\n",
       "      <td>203.005005</td>\n",
       "      <td>173.713333</td>\n",
       "      <td>1.0</td>\n",
       "      <td>0</td>\n",
       "      <td>1</td>\n",
       "      <td>6</td>\n",
       "      <td>1.420439e+09</td>\n",
       "      <td>False</td>\n",
       "    </tr>\n",
       "    <tr>\n",
       "      <th>2015-01-05 06:25:29</th>\n",
       "      <td>243.293335</td>\n",
       "      <td>203.264999</td>\n",
       "      <td>173.848328</td>\n",
       "      <td>1.0</td>\n",
       "      <td>0</td>\n",
       "      <td>1</td>\n",
       "      <td>6</td>\n",
       "      <td>1.420439e+09</td>\n",
       "      <td>False</td>\n",
       "    </tr>\n",
       "    <tr>\n",
       "      <th>2015-01-05 06:25:35</th>\n",
       "      <td>243.388351</td>\n",
       "      <td>203.020004</td>\n",
       "      <td>173.546677</td>\n",
       "      <td>1.0</td>\n",
       "      <td>0</td>\n",
       "      <td>1</td>\n",
       "      <td>6</td>\n",
       "      <td>1.420439e+09</td>\n",
       "      <td>False</td>\n",
       "    </tr>\n",
       "  </tbody>\n",
       "</table>\n",
       "</div>"
      ],
      "text/plain": [
       "                     voltage_mains  pwr_app_mains  pwr_act_mains  \\\n",
       "time                                                               \n",
       "2015-01-05 06:25:11     243.346664     202.818344     173.566666   \n",
       "2015-01-05 06:25:17     243.433334     202.701660     173.366653   \n",
       "2015-01-05 06:25:23     243.541672     203.005005     173.713333   \n",
       "2015-01-05 06:25:29     243.293335     203.264999     173.848328   \n",
       "2015-01-05 06:25:35     243.388351     203.020004     173.546677   \n",
       "\n",
       "                     pwr_act_dish washer  dia_semana  mes  hora     timestamp  \\\n",
       "time                                                                            \n",
       "2015-01-05 06:25:11                  1.0           0    1     6  1.420439e+09   \n",
       "2015-01-05 06:25:17                  1.0           0    1     6  1.420439e+09   \n",
       "2015-01-05 06:25:23                  1.0           0    1     6  1.420439e+09   \n",
       "2015-01-05 06:25:29                  1.0           0    1     6  1.420439e+09   \n",
       "2015-01-05 06:25:35                  1.0           0    1     6  1.420439e+09   \n",
       "\n",
       "                     ligado  \n",
       "time                         \n",
       "2015-01-05 06:25:11   False  \n",
       "2015-01-05 06:25:17   False  \n",
       "2015-01-05 06:25:23   False  \n",
       "2015-01-05 06:25:29   False  \n",
       "2015-01-05 06:25:35   False  "
      ]
     },
     "execution_count": 25,
     "metadata": {},
     "output_type": "execute_result"
    }
   ],
   "source": [
    "merged_df.tail()"
   ]
  },
  {
   "cell_type": "markdown",
   "metadata": {},
   "source": [
    "Use a próxima célula para averiguar as features"
   ]
  },
  {
   "cell_type": "code",
   "execution_count": 10,
   "metadata": {},
   "outputs": [
    {
     "data": {
      "image/png": "[encoded data removed]",
      "text/plain": [
       "<Figure size 1440x576 with 1 Axes>"
      ]
     },
     "metadata": {},
     "output_type": "display_data"
    }
   ],
   "source": [
    "import matplotlib.ticker as ticker\n",
    "\n",
    "\n",
    "\n",
    "\n",
    "SMALL_SIZE = 16\n",
    "MEDIUM_SIZE = 18\n",
    "BIGGER_SIZE = 22\n",
    "\n",
    "plt.rc('font', size=SMALL_SIZE)          # controls default text sizes\n",
    "plt.rc('axes', titlesize=SMALL_SIZE)     # fontsize of the axes title\n",
    "plt.rc('axes', labelsize=MEDIUM_SIZE)    # fontsize of the x and y labels\n",
    "plt.rc('xtick', labelsize=SMALL_SIZE)    # fontsize of the tick labels\n",
    "plt.rc('ytick', labelsize=SMALL_SIZE)    # fontsize of the tick labels\n",
    "plt.rc('legend', fontsize=SMALL_SIZE)    # legend fontsize\n",
    "plt.rc('figure', titlesize=BIGGER_SIZE)  # fontsize of the figure title\n",
    "\n",
    "\n",
    "matplotlib.rc('font', size=MEDIUM_SIZE)\n",
    "matplotlib.rc('axes', titlesize=BIGGER_SIZE)\n",
    "\n",
    "\n",
    "\n",
    "# data = merged_df[merged_df['ligado'] == True]['dia_semana']\n",
    "# nome = 'Histograma em relação ao dia da semana'\n",
    "# x= np.arange(0,8)\n",
    "# labels= ['Domingo', 'Segunda', 'Terça', 'Quarta', 'Quinta', 'Sexta', 'Sábado']\n",
    "# plt.xlabel('Dia da Semana')\n",
    "\n",
    "# data = merged_df[merged_df['ligado'] == True]['hora']\n",
    "# nome = 'Histograma em relação à hora'\n",
    "# x= np.arange(0,25)\n",
    "# labels = np.arange(0,24)\n",
    "# plt.xlabel('Hora')\n",
    "\n",
    "data = merged_df[merged_df['ligado'] == True]['mes']\n",
    "nome = 'Histograma em relação ao mês'\n",
    "x= np.arange(1,14)\n",
    "labels = ['Janeiro', 'Fevereiro', 'Março', 'Abril', 'Maio', 'Junho', 'Julho', 'Agosto', 'Setembro', 'Outubro', 'Novembro', 'Dezembro']\n",
    "plt.xlabel('Mês')\n",
    "\n",
    "\n",
    "\n",
    "plt.hist(data, x, color= '#2596be')\n",
    "# plt.title(label='Histograma Kettle Ligado por Dia da Semana', fontdict= {'fontsize': rcParams['axes.titlesize'],\n",
    "#  'fontweight' : rcParams['axes.titleweight'],\n",
    "#  'verticalalignment': 'baseline',\n",
    "#  'horizontalalignment': 'center'})\n",
    "\n",
    "\n",
    "plt.ylabel('Quantidade')\n",
    "plt.xticks(x, labels, horizontalalignment='left')\n",
    "\n",
    "\n",
    "plt.savefig('results/EPS/hist_mes.eps', format='eps')"
   ]
  },
  {
   "cell_type": "code",
   "execution_count": 33,
   "metadata": {},
   "outputs": [
    {
     "data": {
      "text/plain": [
       "{'whiskers': [<matplotlib.lines.Line2D at 0x7f651ce46cd0>,\n",
       "  <matplotlib.lines.Line2D at 0x7f651ce464f0>],\n",
       " 'caps': [<matplotlib.lines.Line2D at 0x7f651ce46d00>,\n",
       "  <matplotlib.lines.Line2D at 0x7f651ce4d880>],\n",
       " 'boxes': [<matplotlib.lines.Line2D at 0x7f651ce46310>],\n",
       " 'medians': [<matplotlib.lines.Line2D at 0x7f651ce4d9d0>],\n",
       " 'fliers': [],\n",
       " 'means': []}"
      ]
     },
     "execution_count": 33,
     "metadata": {},
     "output_type": "execute_result"
    },
    {
     "data": {
      "image/png": "[encoded data removed]",
      "text/plain": [
       "<Figure size 1440x576 with 1 Axes>"
      ]
     },
     "metadata": {},
     "output_type": "display_data"
    }
   ],
   "source": [
    "fig1, ax1 = plt.subplots()\n",
    "ax1.set_title('Basic Plot')\n",
    "ax1.boxplot(merged_df[merged_df['pwr_act_toaster']>500]['pwr_act_toaster'], showfliers=False)\n",
    "# ax1.boxplot(merged_df['pwr_act_kettle'], showfliers=False)\n"
   ]
  },
  {
   "cell_type": "markdown",
   "metadata": {},
   "source": [
    "# Desagregação"
   ]
  },
  {
   "cell_type": "code",
   "execution_count": 9,
   "metadata": {},
   "outputs": [
    {
     "name": "stdout",
     "output_type": "stream",
     "text": [
      "inicio treino: 2013-03-17 19:12:47\n",
      "final treino: 2013-05-16 23:14:29\n",
      "final teste: 2013-05-31 23:59:53\n"
     ]
    }
   ],
   "source": [
    "#Fazendo a divisao entre treino e teste de forma que 1 milhao de pontos sejam utilizados para treinar\n",
    "train_test_divide = merged_df.index[int(0.8*len(merged_df))]\n",
    "\n",
    "print(\"inicio treino: \" + str(merged_df.index[0]))\n",
    "print(\"final treino: \" + str(train_test_divide))\n",
    "print(\"final teste: \" + str(merged_df.index[-1]))"
   ]
  },
  {
   "cell_type": "code",
   "execution_count": 10,
   "metadata": {},
   "outputs": [],
   "source": [
    "train = merged_df[merged_df.index <= train_test_divide]\n",
    "test = merged_df[merged_df.index > train_test_divide]"
   ]
  },
  {
   "cell_type": "markdown",
   "metadata": {},
   "source": [
    "Utilize a próxima célula para inspecionar os dataframes de teste e treino:"
   ]
  },
  {
   "cell_type": "code",
   "execution_count": 11,
   "metadata": {},
   "outputs": [
    {
     "data": {
      "text/html": [
       "<div>\n",
       "<style scoped>\n",
       "    .dataframe tbody tr th:only-of-type {\n",
       "        vertical-align: middle;\n",
       "    }\n",
       "\n",
       "    .dataframe tbody tr th {\n",
       "        vertical-align: top;\n",
       "    }\n",
       "\n",
       "    .dataframe thead th {\n",
       "        text-align: right;\n",
       "    }\n",
       "</style>\n",
       "<table border=\"1\" class=\"dataframe\">\n",
       "  <thead>\n",
       "    <tr style=\"text-align: right;\">\n",
       "      <th></th>\n",
       "      <th>pwr_app_mains</th>\n",
       "      <th>pwr_act_mains</th>\n",
       "      <th>voltage_mains</th>\n",
       "      <th>pwr_act_kettle</th>\n",
       "      <th>dia_semana</th>\n",
       "      <th>mes</th>\n",
       "      <th>hora</th>\n",
       "      <th>timestamp</th>\n",
       "      <th>ligado</th>\n",
       "    </tr>\n",
       "    <tr>\n",
       "      <th>time</th>\n",
       "      <th></th>\n",
       "      <th></th>\n",
       "      <th></th>\n",
       "      <th></th>\n",
       "      <th></th>\n",
       "      <th></th>\n",
       "      <th></th>\n",
       "      <th></th>\n",
       "      <th></th>\n",
       "    </tr>\n",
       "  </thead>\n",
       "  <tbody>\n",
       "    <tr>\n",
       "      <th>2013-05-16 23:14:35</th>\n",
       "      <td>236.711670</td>\n",
       "      <td>156.578339</td>\n",
       "      <td>241.266663</td>\n",
       "      <td>1.0</td>\n",
       "      <td>3</td>\n",
       "      <td>5</td>\n",
       "      <td>23</td>\n",
       "      <td>1.368746e+09</td>\n",
       "      <td>False</td>\n",
       "    </tr>\n",
       "    <tr>\n",
       "      <th>2013-05-16 23:14:41</th>\n",
       "      <td>236.838333</td>\n",
       "      <td>157.014999</td>\n",
       "      <td>241.913330</td>\n",
       "      <td>1.0</td>\n",
       "      <td>3</td>\n",
       "      <td>5</td>\n",
       "      <td>23</td>\n",
       "      <td>1.368746e+09</td>\n",
       "      <td>False</td>\n",
       "    </tr>\n",
       "    <tr>\n",
       "      <th>2013-05-16 23:14:47</th>\n",
       "      <td>236.854996</td>\n",
       "      <td>157.151672</td>\n",
       "      <td>241.968323</td>\n",
       "      <td>1.0</td>\n",
       "      <td>3</td>\n",
       "      <td>5</td>\n",
       "      <td>23</td>\n",
       "      <td>1.368746e+09</td>\n",
       "      <td>False</td>\n",
       "    </tr>\n",
       "    <tr>\n",
       "      <th>2013-05-16 23:14:53</th>\n",
       "      <td>237.546661</td>\n",
       "      <td>157.456665</td>\n",
       "      <td>241.888336</td>\n",
       "      <td>1.0</td>\n",
       "      <td>3</td>\n",
       "      <td>5</td>\n",
       "      <td>23</td>\n",
       "      <td>1.368746e+09</td>\n",
       "      <td>False</td>\n",
       "    </tr>\n",
       "    <tr>\n",
       "      <th>2013-05-16 23:14:59</th>\n",
       "      <td>237.041672</td>\n",
       "      <td>157.193329</td>\n",
       "      <td>241.853333</td>\n",
       "      <td>1.0</td>\n",
       "      <td>3</td>\n",
       "      <td>5</td>\n",
       "      <td>23</td>\n",
       "      <td>1.368746e+09</td>\n",
       "      <td>False</td>\n",
       "    </tr>\n",
       "  </tbody>\n",
       "</table>\n",
       "</div>"
      ],
      "text/plain": [
       "                     pwr_app_mains  pwr_act_mains  voltage_mains  \\\n",
       "time                                                               \n",
       "2013-05-16 23:14:35     236.711670     156.578339     241.266663   \n",
       "2013-05-16 23:14:41     236.838333     157.014999     241.913330   \n",
       "2013-05-16 23:14:47     236.854996     157.151672     241.968323   \n",
       "2013-05-16 23:14:53     237.546661     157.456665     241.888336   \n",
       "2013-05-16 23:14:59     237.041672     157.193329     241.853333   \n",
       "\n",
       "                     pwr_act_kettle  dia_semana  mes  hora     timestamp  \\\n",
       "time                                                                       \n",
       "2013-05-16 23:14:35             1.0           3    5    23  1.368746e+09   \n",
       "2013-05-16 23:14:41             1.0           3    5    23  1.368746e+09   \n",
       "2013-05-16 23:14:47             1.0           3    5    23  1.368746e+09   \n",
       "2013-05-16 23:14:53             1.0           3    5    23  1.368746e+09   \n",
       "2013-05-16 23:14:59             1.0           3    5    23  1.368746e+09   \n",
       "\n",
       "                     ligado  \n",
       "time                         \n",
       "2013-05-16 23:14:35   False  \n",
       "2013-05-16 23:14:41   False  \n",
       "2013-05-16 23:14:47   False  \n",
       "2013-05-16 23:14:53   False  \n",
       "2013-05-16 23:14:59   False  "
      ]
     },
     "execution_count": 11,
     "metadata": {},
     "output_type": "execute_result"
    }
   ],
   "source": [
    "test.head()"
   ]
  },
  {
   "cell_type": "markdown",
   "metadata": {},
   "source": [
    "## Batch Size"
   ]
  },
  {
   "cell_type": "code",
   "execution_count": 12,
   "metadata": {},
   "outputs": [
    {
     "name": "stderr",
     "output_type": "stream",
     "text": [
      "<ipython-input-12-e4a9960244ee>:1: SettingWithCopyWarning: \n",
      "A value is trying to be set on a copy of a slice from a DataFrame.\n",
      "Try using .loc[row_indexer,col_indexer] = value instead\n",
      "\n",
      "See the caveats in the documentation: https://pandas.pydata.org/pandas-docs/stable/user_guide/indexing.html#returning-a-view-versus-a-copy\n",
      "  train[\"ligado\"] = train[\"ligado\"].astype(int)\n"
     ]
    },
    {
     "data": {
      "text/html": [
       "<div>\n",
       "<style scoped>\n",
       "    .dataframe tbody tr th:only-of-type {\n",
       "        vertical-align: middle;\n",
       "    }\n",
       "\n",
       "    .dataframe tbody tr th {\n",
       "        vertical-align: top;\n",
       "    }\n",
       "\n",
       "    .dataframe thead th {\n",
       "        text-align: right;\n",
       "    }\n",
       "</style>\n",
       "<table border=\"1\" class=\"dataframe\">\n",
       "  <thead>\n",
       "    <tr style=\"text-align: right;\">\n",
       "      <th></th>\n",
       "      <th>time</th>\n",
       "      <th>ligado</th>\n",
       "      <th>diferenca</th>\n",
       "    </tr>\n",
       "  </thead>\n",
       "  <tbody>\n",
       "    <tr>\n",
       "      <th>17</th>\n",
       "      <td>2013-03-18 06:57:35</td>\n",
       "      <td>1</td>\n",
       "      <td>10:10:24</td>\n",
       "    </tr>\n",
       "    <tr>\n",
       "      <th>37</th>\n",
       "      <td>2013-03-18 08:26:53</td>\n",
       "      <td>1</td>\n",
       "      <td>01:27:24</td>\n",
       "    </tr>\n",
       "    <tr>\n",
       "      <th>55</th>\n",
       "      <td>2013-03-18 11:17:29</td>\n",
       "      <td>1</td>\n",
       "      <td>02:48:54</td>\n",
       "    </tr>\n",
       "    <tr>\n",
       "      <th>82</th>\n",
       "      <td>2013-03-18 18:16:29</td>\n",
       "      <td>1</td>\n",
       "      <td>06:56:24</td>\n",
       "    </tr>\n",
       "    <tr>\n",
       "      <th>112</th>\n",
       "      <td>2013-03-18 18:34:41</td>\n",
       "      <td>1</td>\n",
       "      <td>00:15:18</td>\n",
       "    </tr>\n",
       "    <tr>\n",
       "      <th>...</th>\n",
       "      <td>...</td>\n",
       "      <td>...</td>\n",
       "      <td>...</td>\n",
       "    </tr>\n",
       "    <tr>\n",
       "      <th>5384</th>\n",
       "      <td>2013-05-16 12:08:41</td>\n",
       "      <td>1</td>\n",
       "      <td>04:14:24</td>\n",
       "    </tr>\n",
       "    <tr>\n",
       "      <th>5431</th>\n",
       "      <td>2013-05-16 17:06:23</td>\n",
       "      <td>1</td>\n",
       "      <td>04:53:06</td>\n",
       "    </tr>\n",
       "    <tr>\n",
       "      <th>5469</th>\n",
       "      <td>2013-05-16 17:19:53</td>\n",
       "      <td>1</td>\n",
       "      <td>00:09:48</td>\n",
       "    </tr>\n",
       "    <tr>\n",
       "      <th>5475</th>\n",
       "      <td>2013-05-16 19:52:29</td>\n",
       "      <td>1</td>\n",
       "      <td>02:32:06</td>\n",
       "    </tr>\n",
       "    <tr>\n",
       "      <th>5498</th>\n",
       "      <td>2013-05-16 21:47:11</td>\n",
       "      <td>1</td>\n",
       "      <td>01:52:30</td>\n",
       "    </tr>\n",
       "  </tbody>\n",
       "</table>\n",
       "<p>302 rows × 3 columns</p>\n",
       "</div>"
      ],
      "text/plain": [
       "                    time  ligado diferenca\n",
       "17   2013-03-18 06:57:35       1  10:10:24\n",
       "37   2013-03-18 08:26:53       1  01:27:24\n",
       "55   2013-03-18 11:17:29       1  02:48:54\n",
       "82   2013-03-18 18:16:29       1  06:56:24\n",
       "112  2013-03-18 18:34:41       1  00:15:18\n",
       "...                  ...     ...       ...\n",
       "5384 2013-05-16 12:08:41       1  04:14:24\n",
       "5431 2013-05-16 17:06:23       1  04:53:06\n",
       "5469 2013-05-16 17:19:53       1  00:09:48\n",
       "5475 2013-05-16 19:52:29       1  02:32:06\n",
       "5498 2013-05-16 21:47:11       1  01:52:30\n",
       "\n",
       "[302 rows x 3 columns]"
      ]
     },
     "execution_count": 12,
     "metadata": {},
     "output_type": "execute_result"
    }
   ],
   "source": [
    "train[\"ligado\"] = train[\"ligado\"].astype(int)\n",
    "df_ligado = train[train['ligado'] == True][['ligado']].reset_index()\n",
    "df_ligado['diferenca'] = df_ligado['time'].diff()\n",
    "df_ligado[df_ligado['diferenca'] > '00:00:30']"
   ]
  },
  {
   "cell_type": "code",
   "execution_count": 13,
   "metadata": {},
   "outputs": [
    {
     "data": {
      "text/plain": [
       "46"
      ]
     },
     "execution_count": 13,
     "metadata": {},
     "output_type": "execute_result"
    }
   ],
   "source": [
    "# add a column saying if a row belongs to the same state as the one before it\n",
    "df_ligado[\"is_first\"] = df_ligado['diferenca'] > \"00:00:06\"\n",
    "\n",
    "# the cumulative sum - each \"clump\" gets its own integer id\n",
    "df_ligado[\"value_group\"] = df_ligado[\"is_first\"].cumsum()\n",
    "\n",
    "# get the rows corresponding to states beginning\n",
    "start = df_ligado.groupby(\"value_group\", as_index=False).nth(0)\n",
    "# get the rows corresponding to states ending\n",
    "end = df_ligado.groupby(\"value_group\", as_index=False).nth(-1)\n",
    "\n",
    "start_end = pd.DataFrame(\n",
    "    {\n",
    "        \"start\": start.index,\n",
    "        # add freq to get when the state ended\n",
    "        \"end\": end.index,\n",
    "    }\n",
    ")\n",
    "# convert timedeltas to seconds (float)\n",
    "start_end[\"duration\"] = (\n",
    "    (start_end[\"end\"] - start_end[\"start\"]).apply(np.int64)\n",
    ")\n",
    "\n",
    "max(start_end.duration)"
   ]
  },
  {
   "cell_type": "code",
   "execution_count": 14,
   "metadata": {},
   "outputs": [
    {
     "data": {
      "text/plain": [
       "(array([ 5.,  4.,  7.,  3.,  1.,  5.,  3.,  4.,  4.,  7.,  4.,  5., 13.,\n",
       "        15., 21., 19., 24., 19., 18., 23., 20., 20., 12., 11.,  4.,  9.,\n",
       "         3.,  3.,  3.,  2.,  0.,  3.,  0.,  2.,  0.,  1.,  0.,  3.,  1.,\n",
       "         1.,  0.,  0.,  2.,  0.,  1.]),\n",
       " array([ 0,  1,  2,  3,  4,  5,  6,  7,  8,  9, 10, 11, 12, 13, 14, 15, 16,\n",
       "        17, 18, 19, 20, 21, 22, 23, 24, 25, 26, 27, 28, 29, 30, 31, 32, 33,\n",
       "        34, 35, 36, 37, 38, 39, 40, 41, 42, 43, 44, 45]),\n",
       " <a list of 45 Patch objects>)"
      ]
     },
     "execution_count": 14,
     "metadata": {},
     "output_type": "execute_result"
    },
    {
     "data": {
      "image/png": "[encoded data removed]",
      "text/plain": [
       "<Figure size 1440x576 with 1 Axes>"
      ]
     },
     "metadata": {},
     "output_type": "display_data"
    }
   ],
   "source": [
    "#data = merged_df[merged_df['ligado'] == True]['dia_semana']\n",
    "plt.hist(start_end['duration'], np.arange(0,max(start_end['duration'])))"
   ]
  },
  {
   "cell_type": "markdown",
   "metadata": {},
   "source": [
    "###### Criando Dataset sequencial"
   ]
  },
  {
   "cell_type": "code",
   "execution_count": 15,
   "metadata": {},
   "outputs": [],
   "source": [
    "train = train[['voltage_mains', 'pwr_app_mains', 'pwr_act_mains', 'dia_semana', 'hora', 'timestamp', 'ligado']]"
   ]
  },
  {
   "cell_type": "code",
   "execution_count": 16,
   "metadata": {},
   "outputs": [
    {
     "name": "stderr",
     "output_type": "stream",
     "text": [
      "/home/tokyo/anaconda3/lib/python3.8/site-packages/sklearn/preprocessing/_data.py:174: UserWarning: Numerical issues were encountered when centering the data and might not be solved. Dataset may contain too large values. You may need to prescale your features.\n",
      "  warnings.warn(\"Numerical issues were encountered \"\n"
     ]
    },
    {
     "data": {
      "text/html": [
       "<div>\n",
       "<style scoped>\n",
       "    .dataframe tbody tr th:only-of-type {\n",
       "        vertical-align: middle;\n",
       "    }\n",
       "\n",
       "    .dataframe tbody tr th {\n",
       "        vertical-align: top;\n",
       "    }\n",
       "\n",
       "    .dataframe thead th {\n",
       "        text-align: right;\n",
       "    }\n",
       "</style>\n",
       "<table border=\"1\" class=\"dataframe\">\n",
       "  <thead>\n",
       "    <tr style=\"text-align: right;\">\n",
       "      <th></th>\n",
       "      <th>voltage_mains</th>\n",
       "      <th>pwr_app_mains</th>\n",
       "      <th>pwr_act_mains</th>\n",
       "      <th>dia_semana</th>\n",
       "      <th>hora</th>\n",
       "      <th>timestamp</th>\n",
       "      <th>ligado</th>\n",
       "    </tr>\n",
       "    <tr>\n",
       "      <th>time</th>\n",
       "      <th></th>\n",
       "      <th></th>\n",
       "      <th></th>\n",
       "      <th></th>\n",
       "      <th></th>\n",
       "      <th></th>\n",
       "      <th></th>\n",
       "    </tr>\n",
       "  </thead>\n",
       "  <tbody>\n",
       "    <tr>\n",
       "      <th>2013-03-17 19:12:47</th>\n",
       "      <td>-1.390753</td>\n",
       "      <td>0.085978</td>\n",
       "      <td>0.008954</td>\n",
       "      <td>1.5511</td>\n",
       "      <td>1.077981</td>\n",
       "      <td>-1.732683</td>\n",
       "      <td>0.0</td>\n",
       "    </tr>\n",
       "    <tr>\n",
       "      <th>2013-03-17 19:12:53</th>\n",
       "      <td>-1.514176</td>\n",
       "      <td>0.083914</td>\n",
       "      <td>0.006935</td>\n",
       "      <td>1.5511</td>\n",
       "      <td>1.077981</td>\n",
       "      <td>-1.732679</td>\n",
       "      <td>0.0</td>\n",
       "    </tr>\n",
       "    <tr>\n",
       "      <th>2013-03-17 19:12:59</th>\n",
       "      <td>-1.658862</td>\n",
       "      <td>0.083299</td>\n",
       "      <td>0.006520</td>\n",
       "      <td>1.5511</td>\n",
       "      <td>1.077981</td>\n",
       "      <td>-1.732675</td>\n",
       "      <td>0.0</td>\n",
       "    </tr>\n",
       "    <tr>\n",
       "      <th>2013-03-17 19:13:05</th>\n",
       "      <td>-1.488636</td>\n",
       "      <td>0.086843</td>\n",
       "      <td>0.009948</td>\n",
       "      <td>1.5511</td>\n",
       "      <td>1.077981</td>\n",
       "      <td>-1.732671</td>\n",
       "      <td>0.0</td>\n",
       "    </tr>\n",
       "    <tr>\n",
       "      <th>2013-03-17 19:13:11</th>\n",
       "      <td>-1.076891</td>\n",
       "      <td>0.086545</td>\n",
       "      <td>0.009925</td>\n",
       "      <td>1.5511</td>\n",
       "      <td>1.077981</td>\n",
       "      <td>-1.732667</td>\n",
       "      <td>0.0</td>\n",
       "    </tr>\n",
       "  </tbody>\n",
       "</table>\n",
       "</div>"
      ],
      "text/plain": [
       "                     voltage_mains  pwr_app_mains  pwr_act_mains  dia_semana  \\\n",
       "time                                                                           \n",
       "2013-03-17 19:12:47      -1.390753       0.085978       0.008954      1.5511   \n",
       "2013-03-17 19:12:53      -1.514176       0.083914       0.006935      1.5511   \n",
       "2013-03-17 19:12:59      -1.658862       0.083299       0.006520      1.5511   \n",
       "2013-03-17 19:13:05      -1.488636       0.086843       0.009948      1.5511   \n",
       "2013-03-17 19:13:11      -1.076891       0.086545       0.009925      1.5511   \n",
       "\n",
       "                         hora  timestamp  ligado  \n",
       "time                                              \n",
       "2013-03-17 19:12:47  1.077981  -1.732683     0.0  \n",
       "2013-03-17 19:12:53  1.077981  -1.732679     0.0  \n",
       "2013-03-17 19:12:59  1.077981  -1.732675     0.0  \n",
       "2013-03-17 19:13:05  1.077981  -1.732671     0.0  \n",
       "2013-03-17 19:13:11  1.077981  -1.732667     0.0  "
      ]
     },
     "execution_count": 16,
     "metadata": {},
     "output_type": "execute_result"
    }
   ],
   "source": [
    "colunas = train.columns.tolist()\n",
    "train_scaled = pd.DataFrame(np.append(\n",
    "    preprocessing.scale(train[['voltage_mains', 'pwr_app_mains', 'pwr_act_mains', 'dia_semana', 'hora', 'timestamp']]), train[['ligado']].values, axis=1),\n",
    "                            index=train.index, columns=train.columns)\n",
    "train_scaled.head()"
   ]
  },
  {
   "cell_type": "code",
   "execution_count": 17,
   "metadata": {},
   "outputs": [],
   "source": [
    "if torch.cuda.is_available():  \n",
    "  dev = \"cuda:0\" \n",
    "else:  \n",
    "  dev = \"cpu\""
   ]
  },
  {
   "cell_type": "code",
   "execution_count": 21,
   "metadata": {},
   "outputs": [],
   "source": [
    "dev = \"cpu\""
   ]
  },
  {
   "cell_type": "code",
   "execution_count": 13,
   "metadata": {},
   "outputs": [],
   "source": [
    "device = torch.device(dev) \n",
    "\n",
    "class MyDataset(Dataset):\n",
    "    def __init__(self, data, image_size, target_cols):\n",
    "        self.data = torch.from_numpy(data).to(device)\n",
    "        self.image_size = image_size\n",
    "        self.target_cols = target_cols\n",
    "        self.shape = self.__getshape__()\n",
    "        self.size = self.__getsize__()\n",
    " \n",
    "    def __getitem__(self, index):\n",
    "        x = self.data[index:index+self.image_size, 0:self.target_cols]\n",
    "        y = self.data[index:index+self.image_size, self.target_cols]\n",
    "        return x, y\n",
    " \n",
    "    def __len__(self):\n",
    "        return len(self.data)\n",
    "    \n",
    "    def __getshape__(self):\n",
    "        return (self.__len__(), *self.__getitem__(0)[0].shape)\n",
    "    \n",
    "    def __getsize__(self):\n",
    "        return (self.__len__())"
   ]
  },
  {
   "cell_type": "code",
   "execution_count": 14,
   "metadata": {},
   "outputs": [],
   "source": [
    "image_size = 48"
   ]
  },
  {
   "cell_type": "code",
   "execution_count": 15,
   "metadata": {},
   "outputs": [],
   "source": [
    "batch_size = 64\n",
    "target_cols = 6\n",
    " \n",
    "dataset = MyDataset(train_scaled.values, image_size, target_cols)\n",
    "#dataset = MyDataset(train.values, batch_size, target_cols)\n",
    " \n",
    "trainloader = torch.utils.data.DataLoader(dataset, batch_size = batch_size)"
   ]
  },
  {
   "cell_type": "code",
   "execution_count": 45,
   "metadata": {},
   "outputs": [],
   "source": [
    "dataiter = iter(trainloader)\n",
    "\n",
    "while True:\n",
    "    x, y = dataiter.next()\n",
    "    if torch.max(y) ==1:\n",
    "        break\n",
    "        \n",
    "x, y = dataiter.next()\n",
    "\n",
    "x = torch.transpose(x,1,2)"
   ]
  },
  {
   "cell_type": "code",
   "execution_count": 44,
   "metadata": {},
   "outputs": [
    {
     "name": "stdout",
     "output_type": "stream",
     "text": [
      "tensor([0., 0., 0., 0., 0., 0., 0., 0., 0., 0., 0., 0., 0., 0., 0., 0., 0., 0., 0., 0., 0., 0., 0., 0.,\n",
      "        0., 0., 0., 0., 0., 0., 0., 0., 0., 0., 0., 0., 0., 0., 0., 0., 0., 0., 0., 0., 0., 0., 0., 0.],\n",
      "       device='cuda:0', dtype=torch.float64)\n"
     ]
    }
   ],
   "source": [
    "print(y[0])"
   ]
  },
  {
   "cell_type": "code",
   "execution_count": 43,
   "metadata": {},
   "outputs": [
    {
     "name": "stdout",
     "output_type": "stream",
     "text": [
      "tensor([-2.1193, -2.3141, -2.5323, -2.6743, -2.9108, -2.9844, -3.0543, -3.1243,\n",
      "        -3.0646, -2.9281, -3.0591, -2.7805, -2.8196, -2.6988, -2.5116, -2.7973,\n",
      "        -2.7523, -2.6258, -2.6073, -2.4206, -2.3108, -2.0868, -2.0722, -2.0837,\n",
      "        -1.8525, -1.7593, -1.8877, -1.5545, -1.4313, -1.2796, -1.4640, -1.4614,\n",
      "        -1.3890, -1.4002, -1.5525, -1.5948, -1.6546, -1.8111, -1.8408, -1.8687,\n",
      "        -1.8585, -1.8510, -1.6724, -1.6879, -1.7206, -1.6284, -1.6269, -1.5944],\n",
      "       device='cuda:0', grad_fn=<SelectBackward>)\n"
     ]
    }
   ],
   "source": [
    "saida_zero = net(x.float())\n",
    "print(saida_zero[0])"
   ]
  },
  {
   "cell_type": "code",
   "execution_count": 46,
   "metadata": {},
   "outputs": [
    {
     "name": "stdout",
     "output_type": "stream",
     "text": [
      "tensor([0., 0., 0., 0., 0., 0., 0., 0., 0., 0., 0., 0., 0., 0., 0., 0., 0., 0.,\n",
      "        0., 0., 0., 0., 0., 0., 0., 0., 0., 0., 0., 0., 0., 0., 1., 1., 1., 1.,\n",
      "        1., 1., 1., 1., 1., 1., 1., 1., 1., 1., 1., 1.], device='cuda:0',\n",
      "       dtype=torch.float64)\n"
     ]
    }
   ],
   "source": [
    "print(y[0])"
   ]
  },
  {
   "cell_type": "code",
   "execution_count": 47,
   "metadata": {},
   "outputs": [
    {
     "name": "stdout",
     "output_type": "stream",
     "text": [
      "tensor([-3.6004, -3.7528, -4.3563, -4.6218, -5.0199, -4.8916, -5.1744, -5.2026,\n",
      "        -5.7552, -5.6680, -5.6513, -5.6801, -5.2175, -4.8377, -5.4219, -5.0615,\n",
      "        -4.7514, -4.7007, -4.3876, -4.3251, -3.7917, -3.0136, -2.5505, -2.0117,\n",
      "        -1.4427, -0.8241, -0.4070,  0.0127,  0.5442,  0.8004,  1.1388,  1.2764,\n",
      "         1.3566,  1.5804,  1.4989,  1.5674,  1.6111,  1.3479,  1.0820,  1.0528,\n",
      "         0.9641,  0.8104,  0.5497,  0.3717,  0.1321, -0.1501, -0.3333, -0.5309],\n",
      "       device='cuda:0', grad_fn=<SelectBackward>)\n"
     ]
    }
   ],
   "source": [
    "saida_um = net(x.float())\n",
    "print(saida_um[0])"
   ]
  },
  {
   "cell_type": "code",
   "execution_count": 91,
   "metadata": {},
   "outputs": [
    {
     "data": {
      "text/plain": [
       "tensor([0.0266, 0.0229, 0.0127, 0.0097, 0.0066, 0.0075, 0.0056, 0.0055, 0.0032,\n",
       "        0.0034, 0.0035, 0.0034, 0.0054, 0.0079, 0.0044, 0.0063, 0.0086, 0.0090,\n",
       "        0.0123, 0.0131, 0.0221, 0.0468, 0.0724, 0.1180, 0.1911, 0.3049, 0.3996,\n",
       "        0.5032, 0.6328, 0.6901, 0.7575, 0.7818, 0.7952, 0.8293, 0.8174, 0.8274,\n",
       "        0.8336, 0.7938, 0.7469, 0.7413, 0.7239, 0.6922, 0.6341, 0.5919, 0.5330,\n",
       "        0.4625, 0.4174, 0.3703], device='cuda:0', grad_fn=<SigmoidBackward>)"
      ]
     },
     "execution_count": 91,
     "metadata": {},
     "output_type": "execute_result"
    }
   ],
   "source": [
    "torch.sigmoid(saida_um[0])"
   ]
  },
  {
   "cell_type": "markdown",
   "metadata": {},
   "source": [
    "# PYTORCH"
   ]
  },
  {
   "cell_type": "markdown",
   "metadata": {},
   "source": [
    "pool1 = nn.MaxPool1d(5,1).to(device)\n",
    "cv1 = nn.Conv1d(6, 6*8, 3).to(device)\n",
    "cv2 = nn.Conv1d(6*8, 6*8, 3).to(device)\n",
    "cv3 = nn.Conv1d(6*8, 16*6, 3).to(device)\n",
    "cv4 = nn.Conv1d(16*6, 16*6, 3).to(device)\n",
    "cv5 = nn.Conv1d(16*6, 32*6, 3).to(device)     \n",
    "cv6 = nn.Conv1d(32*6, 32*6, 3).to(device)\n",
    "cv7 = nn.Conv1d(32*6, 64*6, 3).to(device)\n",
    "cv8 = nn.Conv1d(64*6, 64*6, 3).to(device)\n",
    "fc1 = nn.Linear(64*6*8, 100).to(device)\n",
    "fc2 = nn.Linear(100, 48).to(device)\n",
    "\n",
    "o1 = cv2(cv2(cv1(x.float())))\n",
    "o2 = pool1(o1)\n",
    "o3 = cv4(cv4(cv3(o2)))\n",
    "o4 = pool1(o3)\n",
    "o5 = cv6(cv6(cv5(o4)))\n",
    "o6 = pool1(o5)\n",
    "o7 = cv8(cv8(cv7(o6)))\n",
    "o8 = pool1(o7)\n",
    "print(o8.shape)\n",
    "o9 = fc1(o8.reshape(o8.size(0), -1))\n",
    "\n",
    "\n",
    "print(o1.shape)\n",
    "print(o2.shape)\n",
    "print(o3.shape)\n",
    "print(o7.shape)\n",
    "print(o8.shape)"
   ]
  },
  {
   "cell_type": "code",
   "execution_count": 16,
   "metadata": {},
   "outputs": [
    {
     "name": "stdout",
     "output_type": "stream",
     "text": [
      "Net(\n",
      "  (pool1): MaxPool1d(kernel_size=5, stride=1, padding=0, dilation=1, ceil_mode=False)\n",
      "  (cv1): Conv1d(6, 48, kernel_size=(3,), stride=(1,))\n",
      "  (cv2): Conv1d(48, 48, kernel_size=(3,), stride=(1,))\n",
      "  (cv3): Conv1d(48, 48, kernel_size=(3,), stride=(1,))\n",
      "  (cv4): Conv1d(48, 96, kernel_size=(3,), stride=(1,))\n",
      "  (cv5): Conv1d(96, 96, kernel_size=(3,), stride=(1,))\n",
      "  (cv6): Conv1d(96, 96, kernel_size=(3,), stride=(1,))\n",
      "  (cv7): Conv1d(96, 192, kernel_size=(3,), stride=(1,))\n",
      "  (cv8): Conv1d(192, 192, kernel_size=(3,), stride=(1,))\n",
      "  (cv9): Conv1d(192, 192, kernel_size=(3,), stride=(1,))\n",
      "  (cv10): Conv1d(192, 384, kernel_size=(3,), stride=(1,))\n",
      "  (cv11): Conv1d(384, 384, kernel_size=(3,), stride=(1,))\n",
      "  (cv12): Conv1d(384, 384, kernel_size=(3,), stride=(1,))\n",
      "  (fc1): Linear(in_features=3072, out_features=300, bias=True)\n",
      "  (fc2): Linear(in_features=300, out_features=48, bias=True)\n",
      "  (bn): BatchNorm1d(384, eps=1e-05, momentum=0.1, affine=True, track_running_stats=True)\n",
      "  (dropout): Dropout(p=0.5, inplace=False)\n",
      ")\n"
     ]
    }
   ],
   "source": [
    "class Net(nn.Module):    \n",
    "      def __init__(self):\n",
    "        super(Net, self).__init__()\n",
    "        self.pool1 = nn.MaxPool1d(5,1)\n",
    "        self.cv1 = nn.Conv1d(6, 6*8, 3)\n",
    "        self.cv2 = nn.Conv1d(6*8, 6*8, 3)\n",
    "        self.cv3 = nn.Conv1d(6*8, 6*8, 3)\n",
    "        self.cv4 = nn.Conv1d(6*8, 16*6, 3)\n",
    "        self.cv5 = nn.Conv1d(16*6, 16*6, 3)\n",
    "        self.cv6 = nn.Conv1d(16*6, 16*6, 3)\n",
    "        self.cv7 = nn.Conv1d(16*6, 32*6, 3)       \n",
    "        self.cv8 = nn.Conv1d(32*6, 32*6, 3)\n",
    "        self.cv9 = nn.Conv1d(32*6, 32*6, 3)\n",
    "        self.cv10 = nn.Conv1d(32*6, 64*6, 3)\n",
    "        self.cv11 = nn.Conv1d(64*6, 64*6, 3)\n",
    "        self.cv12 = nn.Conv1d(64*6, 64*6, 3)\n",
    "        self.fc1 = nn.Linear(64*6*8, 300)\n",
    "        self.fc2 = nn.Linear(300, image_size)\n",
    "        self.bn = nn.BatchNorm1d(64*6)\n",
    "        self.dropout = nn.Dropout(p=0.5)\n",
    "        \n",
    "      def forward(self, x):\n",
    "        x = F.relu(self.cv3(F.relu(self.cv2(F.relu(self.cv1(x))))))\n",
    "        #x = self.dropout(x)\n",
    "        x = self.pool1(x)\n",
    "        x = F.relu(self.cv6(F.relu(self.cv5(F.relu(self.cv4(x))))))\n",
    "        #x = self.dropout(x)\n",
    "        x = self.pool1(x)\n",
    "        x = F.relu(self.cv9(F.relu(self.cv8(F.relu(self.cv7(x))))))\n",
    "        #x = self.dropout(x)\n",
    "        x = self.pool1(x)\n",
    "        x = F.relu(self.cv12(F.relu(self.cv11(F.relu(self.cv10(x))))))\n",
    "        x = self.bn(x)\n",
    "        x = self.pool1(x)\n",
    "        x = F.relu(self.fc1(x.reshape(x.size(0), -1)))\n",
    "        x = self.dropout(x)\n",
    "        x = self.fc2(x)\n",
    "        return x\n",
    "\n",
    "def init_weights(m):\n",
    "    if type(m) == nn.Conv1d or type(m) == nn.Linear:\n",
    "        torch.nn.init.xavier_uniform_(m.weight)\n",
    "        m.bias.data.fill_(0.01) \n",
    "\n",
    "net = Net()\n",
    "net = net.to(device)\n",
    "net.apply(init_weights)\n",
    "print(net)"
   ]
  },
  {
   "cell_type": "code",
   "execution_count": 17,
   "metadata": {},
   "outputs": [],
   "source": [
    "criterion = nn.BCEWithLogitsLoss()\n",
    "\n",
    "#optimizer = optim.SGD(net.parameters(), lr=0.01)\n",
    "optimizer = optim.Adam(net.parameters(), lr=0.001)"
   ]
  },
  {
   "cell_type": "code",
   "execution_count": 18,
   "metadata": {},
   "outputs": [],
   "source": [
    "net.zero_grad()"
   ]
  },
  {
   "cell_type": "code",
   "execution_count": 19,
   "metadata": {},
   "outputs": [
    {
     "name": "stdout",
     "output_type": "stream",
     "text": [
      "[1,   100] loss: 0.430\n",
      "[1,   200] loss: 0.337\n",
      "[1,   300] loss: 0.330\n",
      "[1,   400] loss: 0.313\n",
      "[1,   500] loss: 0.279\n",
      "[2,   100] loss: 0.270\n",
      "[2,   200] loss: 0.269\n",
      "[2,   300] loss: 0.311\n",
      "[2,   400] loss: 0.276\n",
      "[2,   500] loss: 0.231\n",
      "[3,   100] loss: 0.247\n",
      "[3,   200] loss: 0.231\n",
      "[3,   300] loss: 0.238\n",
      "[3,   400] loss: 0.289\n",
      "[3,   500] loss: 0.217\n",
      "[4,   100] loss: 0.240\n",
      "[4,   200] loss: 0.235\n",
      "[4,   300] loss: 0.238\n",
      "[4,   400] loss: 0.226\n",
      "[4,   500] loss: 0.178\n",
      "[5,   100] loss: 0.234\n",
      "[5,   200] loss: 0.231\n",
      "[5,   300] loss: 0.261\n",
      "[5,   400] loss: 0.230\n",
      "[5,   500] loss: 0.166\n",
      "Finished Training 0:08:18.982406\n"
     ]
    }
   ],
   "source": [
    "comeco = datetime.datetime.now()\n",
    "for epoch in range(5):  # loop over the dataset multiple times\n",
    "\n",
    "    real_i = 0\n",
    "    running_loss = 0.0\n",
    "    for i, data in enumerate(trainloader, 0):\n",
    "        if i > len(trainloader)-image_size:\n",
    "            break\n",
    "        # get the inputs; data is a list of [inputs, labels]\n",
    "        inputs, labels = data\n",
    "        labels = labels.to(device)\n",
    "        if torch.max(labels).item() == 0:\n",
    "            continue     \n",
    "                \n",
    "        inputs = torch.transpose(inputs,1,2)\n",
    "\n",
    "        # zero the parameter gradients\n",
    "        optimizer.zero_grad()\n",
    "\n",
    "        # forward + backward + optimizepadded input size per channel: \n",
    "        outputs = net(inputs.float())\n",
    "\n",
    "        loss = criterion(outputs, labels)\n",
    "        loss.backward()\n",
    "        optimizer.step()\n",
    "        real_i += 1\n",
    "        \n",
    "        # print statistics\n",
    "        running_loss += loss.item()\n",
    "        if real_i % 100 == 99:    # print every 2000 mini-batches\n",
    "            print('[%d, %5d] loss: %.3f' %\n",
    "                  (epoch + 1, real_i + 1, running_loss / 100))\n",
    "            running_loss = 0.0\n",
    "\n",
    "duracao = datetime.datetime.now() - comeco\n",
    "print('Finished Training', duracao)"
   ]
  },
  {
   "cell_type": "code",
   "execution_count": 20,
   "metadata": {},
   "outputs": [],
   "source": [
    "torch.save(net, '/home/tokyo/Desktop/TCC/saved_models/BCEwithlogits_CNN_kettle_poucos_dados_dropout0.75_batchnorm_v1.pt')"
   ]
  },
  {
   "cell_type": "code",
   "execution_count": 24,
   "metadata": {},
   "outputs": [
    {
     "data": {
      "text/plain": [
       "Net(\n",
       "  (pool1): MaxPool1d(kernel_size=5, stride=1, padding=0, dilation=1, ceil_mode=False)\n",
       "  (cv1): Conv1d(6, 48, kernel_size=(3,), stride=(1,))\n",
       "  (cv2): Conv1d(48, 48, kernel_size=(3,), stride=(1,))\n",
       "  (cv3): Conv1d(48, 96, kernel_size=(3,), stride=(1,))\n",
       "  (cv4): Conv1d(96, 96, kernel_size=(3,), stride=(1,))\n",
       "  (cv5): Conv1d(96, 192, kernel_size=(3,), stride=(1,))\n",
       "  (cv6): Conv1d(192, 192, kernel_size=(3,), stride=(1,))\n",
       "  (cv7): Conv1d(192, 384, kernel_size=(3,), stride=(1,))\n",
       "  (cv8): Conv1d(384, 384, kernel_size=(3,), stride=(1,))\n",
       "  (fc1): Linear(in_features=3072, out_features=300, bias=True)\n",
       "  (fc2): Linear(in_features=300, out_features=48, bias=True)\n",
       "  (bn): BatchNorm1d(384, eps=1e-05, momentum=0.1, affine=True, track_running_stats=True)\n",
       "  (dropout): Dropout(p=0.75, inplace=False)\n",
       ")"
      ]
     },
     "execution_count": 24,
     "metadata": {},
     "output_type": "execute_result"
    }
   ],
   "source": [
    "net = torch.load('/home/tokyo/Desktop/TCC/saved_models/BCEwithlogits_CNN_kettle_poucos_dados_batchnorm_v1.pt', map_location=device)\n",
    "net.eval()"
   ]
  },
  {
   "cell_type": "markdown",
   "metadata": {},
   "source": [
    "# Teste"
   ]
  },
  {
   "cell_type": "code",
   "execution_count": 85,
   "metadata": {},
   "outputs": [],
   "source": [
    "test = test[['voltage_mains', 'pwr_app_mains', 'pwr_act_mains', 'dia_semana', 'hora', 'timestamp', 'ligado']]\n",
    "colunas = test.columns.tolist()\n",
    "test_scaled = pd.DataFrame(np.append(\n",
    "    preprocessing.scale(test[['voltage_mains', 'pwr_app_mains', 'pwr_act_mains', 'dia_semana', 'hora', 'timestamp']]), test[['ligado']].values, axis=1),\n",
    "                            index=test.index, columns=test.columns)\n",
    "test_scaled.head()\n",
    "\n",
    "batch_size = 64\n",
    "target_cols = 6\n",
    " \n",
    "test_dataset = MyDataset(test_scaled.values, image_size, target_cols) \n",
    "testloader = torch.utils.data.DataLoader(test_dataset, batch_size = batch_size)"
   ]
  },
  {
   "cell_type": "code",
   "execution_count": 86,
   "metadata": {},
   "outputs": [],
   "source": [
    "test['saidas'] = 0.0"
   ]
  },
  {
   "cell_type": "code",
   "execution_count": 87,
   "metadata": {},
   "outputs": [
    {
     "data": {
      "text/plain": [
       "216454"
      ]
     },
     "execution_count": 87,
     "metadata": {},
     "output_type": "execute_result"
    }
   ],
   "source": [
    "len(test)"
   ]
  },
  {
   "cell_type": "code",
   "execution_count": 88,
   "metadata": {},
   "outputs": [
    {
     "name": "stdout",
     "output_type": "stream",
     "text": [
      "2021-02-23 00:03:25.261889\n",
      "0:06:31.883272\n"
     ]
    }
   ],
   "source": [
    "net.eval()\n",
    "\n",
    "comeco = datetime.datetime.now()\n",
    "print(comeco)\n",
    "\n",
    "array = test.iloc[:, 7].values\n",
    "\n",
    "array_results = []\n",
    "\n",
    "for i, data in enumerate(testloader, 0):\n",
    "    \n",
    "    if i > len(testloader)-image_size:\n",
    "        break\n",
    "        \n",
    "    if i % 10000 == 9999:\n",
    "        print(i + 1)\n",
    "        print(datetime.datetime.now() - comeco)\n",
    "        \n",
    "    inputs, labels = data\n",
    "    inputs = torch.transpose(inputs,1,2)\n",
    "  \n",
    "    out = net(inputs.float())\n",
    "    \n",
    "    out = torch.sigmoid(out)\n",
    "      \n",
    "#     array[i:i+image_size] += out[0].detach().cpu().numpy()\n",
    "    for element in out:\n",
    "        array_results.append(element.detach().cpu().numpy())\n",
    "        \n",
    "for i, element in enumerate(array_results):\n",
    "    array[i:i+image_size] += element\n",
    "    \n",
    "test.iloc[:, 7] = array\n",
    "\n",
    "duracao = datetime.datetime.now() - comeco\n",
    "print(duracao)"
   ]
  },
  {
   "cell_type": "code",
   "execution_count": 38,
   "metadata": {},
   "outputs": [],
   "source": [
    "test.to_csv('saidas_conv_kettle_poucos_dados_droupout075_batchnorm_v1.csv', sep=',', header=True, index=True)"
   ]
  },
  {
   "cell_type": "code",
   "execution_count": 24,
   "metadata": {},
   "outputs": [
    {
     "data": {
      "text/html": [
       "<div>\n",
       "<style scoped>\n",
       "    .dataframe tbody tr th:only-of-type {\n",
       "        vertical-align: middle;\n",
       "    }\n",
       "\n",
       "    .dataframe tbody tr th {\n",
       "        vertical-align: top;\n",
       "    }\n",
       "\n",
       "    .dataframe thead th {\n",
       "        text-align: right;\n",
       "    }\n",
       "</style>\n",
       "<table border=\"1\" class=\"dataframe\">\n",
       "  <thead>\n",
       "    <tr style=\"text-align: right;\">\n",
       "      <th></th>\n",
       "      <th>voltage_mains</th>\n",
       "      <th>pwr_app_mains</th>\n",
       "      <th>pwr_act_mains</th>\n",
       "      <th>dia_semana</th>\n",
       "      <th>hora</th>\n",
       "      <th>timestamp</th>\n",
       "      <th>ligado</th>\n",
       "      <th>saidas</th>\n",
       "    </tr>\n",
       "    <tr>\n",
       "      <th>time</th>\n",
       "      <th></th>\n",
       "      <th></th>\n",
       "      <th></th>\n",
       "      <th></th>\n",
       "      <th></th>\n",
       "      <th></th>\n",
       "      <th></th>\n",
       "      <th></th>\n",
       "    </tr>\n",
       "  </thead>\n",
       "  <tbody>\n",
       "    <tr>\n",
       "      <th>2013-05-16 23:14:35</th>\n",
       "      <td>241.266663</td>\n",
       "      <td>236.711670</td>\n",
       "      <td>156.578339</td>\n",
       "      <td>3</td>\n",
       "      <td>23</td>\n",
       "      <td>1.368746e+09</td>\n",
       "      <td>False</td>\n",
       "      <td>-3.690356</td>\n",
       "    </tr>\n",
       "    <tr>\n",
       "      <th>2013-05-16 23:14:41</th>\n",
       "      <td>241.913330</td>\n",
       "      <td>236.838333</td>\n",
       "      <td>157.014999</td>\n",
       "      <td>3</td>\n",
       "      <td>23</td>\n",
       "      <td>1.368746e+09</td>\n",
       "      <td>False</td>\n",
       "      <td>-7.814937</td>\n",
       "    </tr>\n",
       "    <tr>\n",
       "      <th>2013-05-16 23:14:47</th>\n",
       "      <td>241.968323</td>\n",
       "      <td>236.854996</td>\n",
       "      <td>157.151672</td>\n",
       "      <td>3</td>\n",
       "      <td>23</td>\n",
       "      <td>1.368746e+09</td>\n",
       "      <td>False</td>\n",
       "      <td>-12.569944</td>\n",
       "    </tr>\n",
       "    <tr>\n",
       "      <th>2013-05-16 23:14:53</th>\n",
       "      <td>241.888336</td>\n",
       "      <td>237.546661</td>\n",
       "      <td>157.456665</td>\n",
       "      <td>3</td>\n",
       "      <td>23</td>\n",
       "      <td>1.368746e+09</td>\n",
       "      <td>False</td>\n",
       "      <td>-17.835052</td>\n",
       "    </tr>\n",
       "    <tr>\n",
       "      <th>2013-05-16 23:14:59</th>\n",
       "      <td>241.853333</td>\n",
       "      <td>237.041672</td>\n",
       "      <td>157.193329</td>\n",
       "      <td>3</td>\n",
       "      <td>23</td>\n",
       "      <td>1.368746e+09</td>\n",
       "      <td>False</td>\n",
       "      <td>-23.696241</td>\n",
       "    </tr>\n",
       "  </tbody>\n",
       "</table>\n",
       "</div>"
      ],
      "text/plain": [
       "                     voltage_mains  pwr_app_mains  pwr_act_mains  dia_semana  \\\n",
       "time                                                                           \n",
       "2013-05-16 23:14:35     241.266663     236.711670     156.578339           3   \n",
       "2013-05-16 23:14:41     241.913330     236.838333     157.014999           3   \n",
       "2013-05-16 23:14:47     241.968323     236.854996     157.151672           3   \n",
       "2013-05-16 23:14:53     241.888336     237.546661     157.456665           3   \n",
       "2013-05-16 23:14:59     241.853333     237.041672     157.193329           3   \n",
       "\n",
       "                     hora     timestamp  ligado     saidas  \n",
       "time                                                        \n",
       "2013-05-16 23:14:35    23  1.368746e+09   False  -3.690356  \n",
       "2013-05-16 23:14:41    23  1.368746e+09   False  -7.814937  \n",
       "2013-05-16 23:14:47    23  1.368746e+09   False -12.569944  \n",
       "2013-05-16 23:14:53    23  1.368746e+09   False -17.835052  \n",
       "2013-05-16 23:14:59    23  1.368746e+09   False -23.696241  "
      ]
     },
     "execution_count": 24,
     "metadata": {},
     "output_type": "execute_result"
    }
   ],
   "source": [
    "test.head()"
   ]
  },
  {
   "cell_type": "code",
   "execution_count": 25,
   "metadata": {},
   "outputs": [],
   "source": [
    "test[\"ligado\"] = test[\"ligado\"].astype(int)"
   ]
  },
  {
   "cell_type": "code",
   "execution_count": 69,
   "metadata": {},
   "outputs": [],
   "source": [
    "test.iloc[:, 7] = array"
   ]
  },
  {
   "cell_type": "code",
   "execution_count": 80,
   "metadata": {},
   "outputs": [],
   "source": [
    "test['ligado'] = test['ligado'].apply(lambda x: x*40)"
   ]
  },
  {
   "cell_type": "code",
   "execution_count": 57,
   "metadata": {},
   "outputs": [],
   "source": [
    "test['saidas'] = test['saidas'].apply(lambda x: x if x > 0 else 0)"
   ]
  },
  {
   "cell_type": "code",
   "execution_count": 61,
   "metadata": {},
   "outputs": [
    {
     "data": {
      "text/html": [
       "<div>\n",
       "<style scoped>\n",
       "    .dataframe tbody tr th:only-of-type {\n",
       "        vertical-align: middle;\n",
       "    }\n",
       "\n",
       "    .dataframe tbody tr th {\n",
       "        vertical-align: top;\n",
       "    }\n",
       "\n",
       "    .dataframe thead th {\n",
       "        text-align: right;\n",
       "    }\n",
       "</style>\n",
       "<table border=\"1\" class=\"dataframe\">\n",
       "  <thead>\n",
       "    <tr style=\"text-align: right;\">\n",
       "      <th></th>\n",
       "      <th>voltage_mains</th>\n",
       "      <th>pwr_app_mains</th>\n",
       "      <th>pwr_act_mains</th>\n",
       "      <th>dia_semana</th>\n",
       "      <th>hora</th>\n",
       "      <th>timestamp</th>\n",
       "      <th>ligado</th>\n",
       "      <th>saidas</th>\n",
       "    </tr>\n",
       "  </thead>\n",
       "  <tbody>\n",
       "    <tr>\n",
       "      <th>count</th>\n",
       "      <td>775.000000</td>\n",
       "      <td>775.000000</td>\n",
       "      <td>775.000000</td>\n",
       "      <td>775.000000</td>\n",
       "      <td>775.000000</td>\n",
       "      <td>7.750000e+02</td>\n",
       "      <td>775.0</td>\n",
       "      <td>775.000000</td>\n",
       "    </tr>\n",
       "    <tr>\n",
       "      <th>mean</th>\n",
       "      <td>241.992844</td>\n",
       "      <td>2676.012207</td>\n",
       "      <td>2652.424316</td>\n",
       "      <td>3.365161</td>\n",
       "      <td>12.810323</td>\n",
       "      <td>1.369081e+09</td>\n",
       "      <td>1.0</td>\n",
       "      <td>590.891794</td>\n",
       "    </tr>\n",
       "    <tr>\n",
       "      <th>std</th>\n",
       "      <td>1.459767</td>\n",
       "      <td>643.839417</td>\n",
       "      <td>652.946228</td>\n",
       "      <td>2.200440</td>\n",
       "      <td>4.532558</td>\n",
       "      <td>2.904079e+05</td>\n",
       "      <td>0.0</td>\n",
       "      <td>1397.024377</td>\n",
       "    </tr>\n",
       "    <tr>\n",
       "      <th>min</th>\n",
       "      <td>236.868332</td>\n",
       "      <td>196.710007</td>\n",
       "      <td>144.663330</td>\n",
       "      <td>0.000000</td>\n",
       "      <td>5.000000</td>\n",
       "      <td>1.368777e+09</td>\n",
       "      <td>1.0</td>\n",
       "      <td>0.000000</td>\n",
       "    </tr>\n",
       "    <tr>\n",
       "      <th>25%</th>\n",
       "      <td>241.102501</td>\n",
       "      <td>2617.069214</td>\n",
       "      <td>2599.229980</td>\n",
       "      <td>1.000000</td>\n",
       "      <td>8.000000</td>\n",
       "      <td>1.368913e+09</td>\n",
       "      <td>1.0</td>\n",
       "      <td>8.800029</td>\n",
       "    </tr>\n",
       "    <tr>\n",
       "      <th>50%</th>\n",
       "      <td>241.971664</td>\n",
       "      <td>2697.294922</td>\n",
       "      <td>2678.626709</td>\n",
       "      <td>4.000000</td>\n",
       "      <td>13.000000</td>\n",
       "      <td>1.368992e+09</td>\n",
       "      <td>1.0</td>\n",
       "      <td>134.958089</td>\n",
       "    </tr>\n",
       "    <tr>\n",
       "      <th>75%</th>\n",
       "      <td>242.931664</td>\n",
       "      <td>2803.652588</td>\n",
       "      <td>2783.515869</td>\n",
       "      <td>5.000000</td>\n",
       "      <td>17.000000</td>\n",
       "      <td>1.369143e+09</td>\n",
       "      <td>1.0</td>\n",
       "      <td>284.600643</td>\n",
       "    </tr>\n",
       "    <tr>\n",
       "      <th>max</th>\n",
       "      <td>246.464996</td>\n",
       "      <td>4443.813477</td>\n",
       "      <td>4408.353516</td>\n",
       "      <td>6.000000</td>\n",
       "      <td>21.000000</td>\n",
       "      <td>1.370031e+09</td>\n",
       "      <td>1.0</td>\n",
       "      <td>10556.543286</td>\n",
       "    </tr>\n",
       "  </tbody>\n",
       "</table>\n",
       "</div>"
      ],
      "text/plain": [
       "       voltage_mains  pwr_app_mains  pwr_act_mains  dia_semana        hora  \\\n",
       "count     775.000000     775.000000     775.000000  775.000000  775.000000   \n",
       "mean      241.992844    2676.012207    2652.424316    3.365161   12.810323   \n",
       "std         1.459767     643.839417     652.946228    2.200440    4.532558   \n",
       "min       236.868332     196.710007     144.663330    0.000000    5.000000   \n",
       "25%       241.102501    2617.069214    2599.229980    1.000000    8.000000   \n",
       "50%       241.971664    2697.294922    2678.626709    4.000000   13.000000   \n",
       "75%       242.931664    2803.652588    2783.515869    5.000000   17.000000   \n",
       "max       246.464996    4443.813477    4408.353516    6.000000   21.000000   \n",
       "\n",
       "          timestamp  ligado        saidas  \n",
       "count  7.750000e+02   775.0    775.000000  \n",
       "mean   1.369081e+09     1.0    590.891794  \n",
       "std    2.904079e+05     0.0   1397.024377  \n",
       "min    1.368777e+09     1.0      0.000000  \n",
       "25%    1.368913e+09     1.0      8.800029  \n",
       "50%    1.368992e+09     1.0    134.958089  \n",
       "75%    1.369143e+09     1.0    284.600643  \n",
       "max    1.370031e+09     1.0  10556.543286  "
      ]
     },
     "execution_count": 61,
     "metadata": {},
     "output_type": "execute_result"
    }
   ],
   "source": [
    "test[test['ligado'] == 1].describe()"
   ]
  },
  {
   "cell_type": "code",
   "execution_count": 90,
   "metadata": {},
   "outputs": [
    {
     "data": {
      "image/png": "[encoded data removed]",
      "text/plain": [
       "<Figure size 1440x576 with 1 Axes>"
      ]
     },
     "metadata": {},
     "output_type": "display_data"
    }
   ],
   "source": [
    "plt.plot(test.index, test['ligado'], label = 'ligado')\n",
    "plt.plot(test.index, test['saidas'], label = \"ligado_predicao\")\n",
    "plt.legend()\n",
    "plt.show()"
   ]
  },
  {
   "cell_type": "code",
   "execution_count": 53,
   "metadata": {},
   "outputs": [
    {
     "data": {
      "image/png": "[encoded data removed]",
      "text/plain": [
       "<Figure size 1440x576 with 1 Axes>"
      ]
     },
     "metadata": {},
     "output_type": "display_data"
    }
   ],
   "source": [
    "# datetime(year, month, day, hour, minute, second, microsecond)\n",
    "date_from = datetime.datetime(2013, 5, 21, 7)\n",
    "date_to = datetime.datetime(2013, 5, 21, 22)\n",
    "\n",
    "test_detail_plot = test[(test.index > date_from) & (test.index < date_to)]\n",
    "\n",
    "plt.plot(test_detail_plot.index, test_detail_plot['ligado'], label = 'ligado')\n",
    "plt.plot(test_detail_plot.index, test_detail_plot['saidas'], label = 'ligado_predicao')\n",
    "plt.legend()\n",
    "plt.show()"
   ]
  },
  {
   "cell_type": "code",
   "execution_count": 76,
   "metadata": {},
   "outputs": [
    {
     "name": "stdout",
     "output_type": "stream",
     "text": [
      "True Positives: 390\n",
      "True Negatives: 215457\n",
      "False Positives: 222\n",
      "False Negatives: 385\n",
      "Positives: 775\n",
      "Negatives: 215679\n",
      "-----------------------------\n",
      "Recall: 0.5032258064516129\n",
      "Precision: 0.6372549019607843\n",
      "Accuracy: 0.9971957090190063\n",
      "F1 score: 0.6372549019607843\n"
     ]
    }
   ],
   "source": [
    "y = test.iloc[:,6].values\n",
    "y_pred = test.iloc[:,7].values\n",
    "\n",
    "TP = 0\n",
    "TN = 0\n",
    "FP = 0\n",
    "FN = 0\n",
    "P = 0\n",
    "N = 0\n",
    "\n",
    "for i in range(len(y)):\n",
    "    if y_pred[i] == y[i]:\n",
    "        if y_pred[i] == True:\n",
    "            TP += 1\n",
    "            P += 1\n",
    "        else:\n",
    "            TN += 1\n",
    "            N += 1\n",
    "    else:\n",
    "        if y_pred[i] == True:\n",
    "            FP += 1\n",
    "            N += 1\n",
    "        else:\n",
    "            FN += 1\n",
    "            P += 1\n",
    "    \n",
    "recall = TP/(TP+FN)\n",
    "precision = TP/(TP+FP)\n",
    "accuracy = (TP+TN)/(P+N)\n",
    "f1 = 2*(precision*recall)/(precision+recall)\n",
    "    \n",
    "print(\"True Positives: \" + str(TP))\n",
    "print(\"True Negatives: \" + str(TN))\n",
    "print(\"False Positives: \" + str(FP))\n",
    "print(\"False Negatives: \" + str(FN))\n",
    "print(\"Positives: \" + str(P))\n",
    "print(\"Negatives: \" + str(N))\n",
    "print(\"-----------------------------\")\n",
    "print(\"Recall: \" + str(recall))\n",
    "print(\"Precision: \" + str(precision))\n",
    "print(\"Accuracy: \" + str(accuracy))\n",
    "print(\"F1 score: \" + str(TP/(TP+FP)))"
   ]
  },
  {
   "cell_type": "markdown",
   "metadata": {},
   "source": [
    "# Dropout 0.2 cada camada, todas conv diferentes\n",
    "True Positives: 448\n",
    "True Negatives: 215492\n",
    "False Positives: 187\n",
    "False Negatives: 327\n",
    "Positives: 775\n",
    "Negatives: 215679\n",
    "\n",
    "-----------------------------\n",
    "Recall: 0.5780645161290323\n",
    "Precision: 0.705511811023622\n",
    "Accuracy: 0.9976253615086809\n",
    "F1 score: 0.705511811023622\n"
   ]
  }
 ],
 "metadata": {
  "interpreter": {
   "hash": "0d0578ba25df9157e26c0a1c62fddb67b0994bec13c5b6da606c999bba7b0821"
  },
  "kernelspec": {
   "display_name": "Python 3.8.12 64-bit ('base': conda)",
   "name": "python3"
  },
  "language_info": {
   "codemirror_mode": {
    "name": "ipython",
    "version": 3
   },
   "file_extension": ".py",
   "mimetype": "text/x-python",
   "name": "python",
   "nbconvert_exporter": "python",
   "pygments_lexer": "ipython3",
   "version": "3.8.12"
  }
 },
 "nbformat": 4,
 "nbformat_minor": 4
}